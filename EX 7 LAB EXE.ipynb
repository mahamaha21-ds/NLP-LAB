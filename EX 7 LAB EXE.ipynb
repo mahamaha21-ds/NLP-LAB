{
 "cells": [
  {
   "cell_type": "markdown",
   "metadata": {},
   "source": [
    "# DEPENDENCY PARSING USING STANZA"
   ]
  },
  {
   "cell_type": "markdown",
   "metadata": {},
   "source": [
    "# 9.1 SIMPLE DEPENDENCY PARSING PROGRAM"
   ]
  },
  {
   "cell_type": "code",
   "execution_count": 7,
   "metadata": {},
   "outputs": [
    {
     "name": "stdout",
     "output_type": "stream",
     "text": [
      "Requirement already satisfied: stanza in c:\\programdata\\anaconda3\\lib\\site-packages (1.6.1)\n",
      "Requirement already satisfied: numpy in c:\\programdata\\anaconda3\\lib\\site-packages (from stanza) (1.15.4)\n",
      "Requirement already satisfied: torch>=1.3.0 in c:\\programdata\\anaconda3\\lib\\site-packages (from stanza) (1.13.1)\n",
      "Requirement already satisfied: tqdm in c:\\programdata\\anaconda3\\lib\\site-packages (from stanza) (4.28.1)\n",
      "Requirement already satisfied: requests in c:\\programdata\\anaconda3\\lib\\site-packages (from stanza) (2.21.0)\n",
      "Requirement already satisfied: emoji in c:\\programdata\\anaconda3\\lib\\site-packages (from stanza) (2.14.1)\n",
      "Requirement already satisfied: protobuf>=3.15.0 in c:\\programdata\\anaconda3\\lib\\site-packages (from stanza) (4.24.4)\n",
      "Requirement already satisfied: typing-extensions in c:\\programdata\\anaconda3\\lib\\site-packages (from torch>=1.3.0->stanza) (4.7.1)\n",
      "Requirement already satisfied: idna<2.9,>=2.5 in c:\\programdata\\anaconda3\\lib\\site-packages (from requests->stanza) (2.8)\n",
      "Requirement already satisfied: certifi>=2017.4.17 in c:\\programdata\\anaconda3\\lib\\site-packages (from requests->stanza) (2018.11.29)\n",
      "Requirement already satisfied: urllib3<1.25,>=1.21.1 in c:\\programdata\\anaconda3\\lib\\site-packages (from requests->stanza) (1.24.1)\n",
      "Requirement already satisfied: chardet<3.1.0,>=3.0.2 in c:\\programdata\\anaconda3\\lib\\site-packages (from requests->stanza) (3.0.4)\n"
     ]
    }
   ],
   "source": [
    "!pip install stanza\n"
   ]
  },
  {
   "cell_type": "code",
   "execution_count": 8,
   "metadata": {},
   "outputs": [
    {
     "data": {
      "application/vnd.jupyter.widget-view+json": {
       "model_id": "7284b31da0c042c3842f0dd773f2d270",
       "version_major": 2,
       "version_minor": 0
      },
      "text/plain": [
       "HBox(children=(IntProgress(value=0, description='Downloading https://raw.githubusercontent.com/stanfordnlp/sta…"
      ]
     },
     "metadata": {},
     "output_type": "display_data"
    },
    {
     "name": "stdout",
     "output_type": "stream",
     "text": [
      "\n"
     ]
    },
    {
     "name": "stderr",
     "output_type": "stream",
     "text": [
      "2025-07-30 08:48:30 INFO: Downloading default packages for language: en (English) ...\n"
     ]
    },
    {
     "data": {
      "application/vnd.jupyter.widget-view+json": {
       "model_id": "851a3ae9e76a4fcca1b2b5c279d698ea",
       "version_major": 2,
       "version_minor": 0
      },
      "text/plain": [
       "HBox(children=(IntProgress(value=0, description='Downloading https://huggingface.co/stanfordnlp/stanza-en/reso…"
      ]
     },
     "metadata": {},
     "output_type": "display_data"
    },
    {
     "name": "stdout",
     "output_type": "stream",
     "text": [
      "\n"
     ]
    },
    {
     "name": "stderr",
     "output_type": "stream",
     "text": [
      "2025-07-30 08:49:04 INFO: Finished downloading models and saved to C:\\Users\\2mscds34\\stanza_resources.\n"
     ]
    }
   ],
   "source": [
    "import stanza\n",
    "stanza.download('en')"
   ]
  },
  {
   "cell_type": "code",
   "execution_count": 10,
   "metadata": {},
   "outputs": [
    {
     "name": "stderr",
     "output_type": "stream",
     "text": [
      "2025-07-30 08:52:12 INFO: Checking for updates to resources.json in case models have been updated.  Note: this behavior can be turned off with download_method=None or download_method=DownloadMethod.REUSE_RESOURCES\n"
     ]
    },
    {
     "data": {
      "application/vnd.jupyter.widget-view+json": {
       "model_id": "6d78ae8c8d624b3cb6bca438be404fda",
       "version_major": 2,
       "version_minor": 0
      },
      "text/plain": [
       "HBox(children=(IntProgress(value=0, description='Downloading https://raw.githubusercontent.com/stanfordnlp/sta…"
      ]
     },
     "metadata": {},
     "output_type": "display_data"
    },
    {
     "name": "stdout",
     "output_type": "stream",
     "text": [
      "\n"
     ]
    },
    {
     "name": "stderr",
     "output_type": "stream",
     "text": [
      "2025-07-30 08:52:13 INFO: Loading these models for language: en (English):\n",
      "======================================\n",
      "| Processor    | Package             |\n",
      "--------------------------------------\n",
      "| tokenize     | combined            |\n",
      "| pos          | combined_charlm     |\n",
      "| lemma        | combined_nocharlm   |\n",
      "| constituency | ptb3-revised_charlm |\n",
      "| depparse     | combined_charlm     |\n",
      "| sentiment    | sstplus             |\n",
      "| ner          | ontonotes_charlm    |\n",
      "======================================\n",
      "\n",
      "2025-07-30 08:52:13 INFO: Using device: cpu\n",
      "2025-07-30 08:52:13 INFO: Loading: tokenize\n",
      "2025-07-30 08:52:13 INFO: Loading: pos\n",
      "2025-07-30 08:52:13 INFO: Loading: lemma\n",
      "2025-07-30 08:52:13 INFO: Loading: constituency\n",
      "2025-07-30 08:52:13 INFO: Loading: depparse\n",
      "2025-07-30 08:52:14 INFO: Loading: sentiment\n",
      "2025-07-30 08:52:14 INFO: Loading: ner\n",
      "2025-07-30 08:52:14 INFO: Done loading processors!\n"
     ]
    }
   ],
   "source": [
    "nlp=stanza.Pipeline('en')\n",
    "sentence=\"The quick brown fox jumps over the lazy dog.\"\n",
    "doc=nlp(sentence)"
   ]
  },
  {
   "cell_type": "code",
   "execution_count": 12,
   "metadata": {},
   "outputs": [
    {
     "name": "stdout",
     "output_type": "stream",
     "text": [
      "Word\tHead\tRelation\n",
      "The\tfox\tdet\n",
      "quick\tfox\tamod\n",
      "brown\tfox\tamod\n",
      "fox\tjumps\tnsubj\n",
      "jumps\tROOT\troot\n",
      "over\tdog\tcase\n",
      "the\tdog\tdet\n",
      "lazy\tdog\tamod\n",
      "dog\tjumps\tobl\n",
      ".\tjumps\tpunct\n"
     ]
    }
   ],
   "source": [
    "print(\"Word\\tHead\\tRelation\")\n",
    "for sent in doc.sentences:\n",
    "    for word in sent.words:\n",
    "        head = sent.words[word.head - 1].text if word.head > 0 else \"ROOT\"\n",
    "        print(f\"{word.text}\\t{head}\\t{word.deprel}\")"
   ]
  },
  {
   "cell_type": "markdown",
   "metadata": {},
   "source": [
    "# 9.2. Advanced Dependency Tree Visualization using networkx + matplotlib"
   ]
  },
  {
   "cell_type": "code",
   "execution_count": 13,
   "metadata": {},
   "outputs": [],
   "source": [
    "import stanza\n",
    "import networkx as nx\n",
    "import matplotlib.pyplot as plt"
   ]
  },
  {
   "cell_type": "code",
   "execution_count": 15,
   "metadata": {},
   "outputs": [
    {
     "name": "stderr",
     "output_type": "stream",
     "text": [
      "2025-07-30 09:04:48 INFO: Checking for updates to resources.json in case models have been updated.  Note: this behavior can be turned off with download_method=None or download_method=DownloadMethod.REUSE_RESOURCES\n"
     ]
    },
    {
     "data": {
      "application/vnd.jupyter.widget-view+json": {
       "model_id": "25a89c2d5b6b40e3a44af58b1eedd366",
       "version_major": 2,
       "version_minor": 0
      },
      "text/plain": [
       "HBox(children=(IntProgress(value=0, description='Downloading https://raw.githubusercontent.com/stanfordnlp/sta…"
      ]
     },
     "metadata": {},
     "output_type": "display_data"
    },
    {
     "name": "stdout",
     "output_type": "stream",
     "text": [
      "\n"
     ]
    },
    {
     "name": "stderr",
     "output_type": "stream",
     "text": [
      "2025-07-30 09:04:50 INFO: Loading these models for language: en (English):\n",
      "======================================\n",
      "| Processor    | Package             |\n",
      "--------------------------------------\n",
      "| tokenize     | combined            |\n",
      "| pos          | combined_charlm     |\n",
      "| lemma        | combined_nocharlm   |\n",
      "| constituency | ptb3-revised_charlm |\n",
      "| depparse     | combined_charlm     |\n",
      "| sentiment    | sstplus             |\n",
      "| ner          | ontonotes_charlm    |\n",
      "======================================\n",
      "\n",
      "2025-07-30 09:04:50 INFO: Using device: cpu\n",
      "2025-07-30 09:04:50 INFO: Loading: tokenize\n",
      "2025-07-30 09:04:50 INFO: Loading: pos\n",
      "2025-07-30 09:04:50 INFO: Loading: lemma\n",
      "2025-07-30 09:04:50 INFO: Loading: constituency\n",
      "2025-07-30 09:04:50 INFO: Loading: depparse\n",
      "2025-07-30 09:04:50 INFO: Loading: sentiment\n",
      "2025-07-30 09:04:51 INFO: Loading: ner\n",
      "2025-07-30 09:04:51 INFO: Done loading processors!\n"
     ]
    },
    {
     "data": {
      "image/png": "[encoded data removed]",
      "text/plain": [
       "<Figure size 432x288 with 1 Axes>"
      ]
     },
     "metadata": {},
     "output_type": "display_data"
    }
   ],
   "source": [
    "# Load NLP pipeline\n",
    "nlp = stanza.Pipeline('en')\n",
    "sentence = \"The quick brown fox jumps over the lazy dog.\"\n",
    "doc = nlp(sentence)\n",
    "G = nx.DiGraph()\n",
    "for sent in doc.sentences:\n",
    "    for word in sent.words:\n",
    "        head_text = \"ROOT\" if word.head == 0 else sent.words[word.head-1].text\n",
    "        G.add_edge(head_text, word.text, label=word.deprel)\n",
    "# Draw the graph\n",
    "pos = nx.spring_layout(G)\n",
    "labels = nx.get_edge_attributes(G, 'label')\n",
    "nx.draw(G, pos, with_labels=True, node_size=2000, node_color='lightblue',\n",
    "font_size=10)\n",
    "nx.draw_networkx_edge_labels(G, pos, edge_labels=labels, font_color='red')\n",
    "plt.title(\"Dependency Parse Tree\")\n",
    "plt.show()"
   ]
  },
  {
   "cell_type": "markdown",
   "metadata": {},
   "source": [
    "# 10. Word Sense Disambiguation (WSD)\n",
    "Program 10.1: Simple WSD using Lesk Algorithm"
   ]
  },
  {
   "cell_type": "code",
   "execution_count": 20,
   "metadata": {},
   "outputs": [
    {
     "name": "stderr",
     "output_type": "stream",
     "text": [
      "[nltk_data] Downloading package wordnet to\n",
      "[nltk_data]     C:\\Users\\2mscds34\\AppData\\Roaming\\nltk_data...\n",
      "[nltk_data] Downloading package punkt to\n",
      "[nltk_data]     C:\\Users\\2mscds34\\AppData\\Roaming\\nltk_data...\n",
      "[nltk_data]   Package punkt is already up-to-date!\n"
     ]
    },
    {
     "name": "stdout",
     "output_type": "stream",
     "text": [
      "Sense: Synset('savings_bank.n.02')\n",
      "Definition: a container (usually with a slot in the top) for keeping money at home\n"
     ]
    }
   ],
   "source": [
    "import nltk\n",
    "nltk.download('wordnet')\n",
    "nltk.download('punkt')\n",
    "from nltk.wsd import lesk\n",
    "from nltk.tokenize import word_tokenize\n",
    "sentence = \"I went to the bank to deposit money.\"\n",
    "tokens = word_tokenize(sentence)\n",
    "sense = lesk(tokens, 'bank')\n",
    "print(\"Sense:\", sense)\n",
    "print(\"Definition:\", sense.definition())"
   ]
  },
  {
   "cell_type": "markdown",
   "metadata": {},
   "source": [
    "# Program 10.2: Advanced WSD with Multiple Words"
   ]
  },
  {
   "cell_type": "code",
   "execution_count": 23,
   "metadata": {},
   "outputs": [
    {
     "name": "stdout",
     "output_type": "stream",
     "text": [
      "Sentence: He used a crane to lift the load.\n",
      "Sense: Synset('grus.n.01')\n",
      "Definition: a small constellation in the southern hemisphere near Phoenix\n"
     ]
    }
   ],
   "source": [
    "sentences = [\"The crane is flying.\", \"He used a crane to lift the load.\"]\n",
    "for sent in sentences:\n",
    "    tokens = word_tokenize(sent)\n",
    "    sense = lesk(tokens, 'crane')\n",
    "print(\"Sentence:\", sent)\n",
    "print(\"Sense:\", sense)\n",
    "print(\"Definition:\", sense.definition())"
   ]
  }
 ],
 "metadata": {
  "kernelspec": {
   "display_name": "Python 3",
   "language": "python",
   "name": "python3"
  },
  "language_info": {
   "codemirror_mode": {
    "name": "ipython",
    "version": 3
   },
   "file_extension": ".py",
   "mimetype": "text/x-python",
   "name": "python",
   "nbconvert_exporter": "python",
   "pygments_lexer": "ipython3",
   "version": "3.7.1"
  }
 },
 "nbformat": 4,
 "nbformat_minor": 2
}
